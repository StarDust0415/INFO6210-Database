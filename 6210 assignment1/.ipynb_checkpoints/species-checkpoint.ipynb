{
 "cells": [
  {
   "cell_type": "code",
   "execution_count": 31,
   "metadata": {
    "collapsed": true
   },
   "outputs": [],
   "source": [
    "%matplotlib inline \n",
    "import matplotlib.pyplot as plt\n",
    "import numpy as np\n",
    "import pandas as pd\n",
    "from scipy import stats\n",
    "import seaborn as sns\n",
    "from sklearn.datasets import load_boston"
   ]
  },
  {
   "cell_type": "code",
   "execution_count": 32,
   "metadata": {},
   "outputs": [
    {
     "data": {
      "text/html": [
       "<div>\n",
       "<style>\n",
       "    .dataframe thead tr:only-child th {\n",
       "        text-align: right;\n",
       "    }\n",
       "\n",
       "    .dataframe thead th {\n",
       "        text-align: left;\n",
       "    }\n",
       "\n",
       "    .dataframe tbody tr th {\n",
       "        vertical-align: top;\n",
       "    }\n",
       "</style>\n",
       "<table border=\"1\" class=\"dataframe\">\n",
       "  <thead>\n",
       "    <tr style=\"text-align: right;\">\n",
       "      <th></th>\n",
       "      <th>Species_ID</th>\n",
       "      <th>Park_Name</th>\n",
       "      <th>Category</th>\n",
       "      <th>Order</th>\n",
       "      <th>Family</th>\n",
       "      <th>Scientific_Name</th>\n",
       "      <th>Common_Names</th>\n",
       "      <th>Record_Status</th>\n",
       "      <th>Occurrence</th>\n",
       "      <th>Nativeness</th>\n",
       "      <th>Abundance</th>\n",
       "      <th>Seasonality</th>\n",
       "      <th>Conservation_Status</th>\n",
       "    </tr>\n",
       "  </thead>\n",
       "  <tbody>\n",
       "    <tr>\n",
       "      <th>0</th>\n",
       "      <td>ACAD-1000</td>\n",
       "      <td>Acadia National Park</td>\n",
       "      <td>Mammal</td>\n",
       "      <td>Artiodactyla</td>\n",
       "      <td>Cervidae</td>\n",
       "      <td>Alces alces</td>\n",
       "      <td>Moose</td>\n",
       "      <td>Approved</td>\n",
       "      <td>Present</td>\n",
       "      <td>Native</td>\n",
       "      <td>Rare</td>\n",
       "      <td>Resident</td>\n",
       "      <td>NaN</td>\n",
       "    </tr>\n",
       "    <tr>\n",
       "      <th>1</th>\n",
       "      <td>ACAD-1001</td>\n",
       "      <td>Acadia National Park</td>\n",
       "      <td>Mammal</td>\n",
       "      <td>Artiodactyla</td>\n",
       "      <td>Cervidae</td>\n",
       "      <td>Odocoileus virginianus</td>\n",
       "      <td>Northern White-Tailed Deer, Virginia Deer, Whi...</td>\n",
       "      <td>Approved</td>\n",
       "      <td>Present</td>\n",
       "      <td>Native</td>\n",
       "      <td>Abundant</td>\n",
       "      <td>NaN</td>\n",
       "      <td>NaN</td>\n",
       "    </tr>\n",
       "    <tr>\n",
       "      <th>2</th>\n",
       "      <td>ACAD-1002</td>\n",
       "      <td>Acadia National Park</td>\n",
       "      <td>Mammal</td>\n",
       "      <td>Carnivora</td>\n",
       "      <td>Canidae</td>\n",
       "      <td>Canis latrans</td>\n",
       "      <td>Coyote, Eastern Coyote</td>\n",
       "      <td>Approved</td>\n",
       "      <td>Present</td>\n",
       "      <td>Not Native</td>\n",
       "      <td>Common</td>\n",
       "      <td>NaN</td>\n",
       "      <td>Species of Concern</td>\n",
       "    </tr>\n",
       "    <tr>\n",
       "      <th>3</th>\n",
       "      <td>ACAD-1003</td>\n",
       "      <td>Acadia National Park</td>\n",
       "      <td>Mammal</td>\n",
       "      <td>Carnivora</td>\n",
       "      <td>Canidae</td>\n",
       "      <td>Canis lupus</td>\n",
       "      <td>Eastern Timber Wolf, Gray Wolf, Timber Wolf</td>\n",
       "      <td>Approved</td>\n",
       "      <td>Not Confirmed</td>\n",
       "      <td>Native</td>\n",
       "      <td>NaN</td>\n",
       "      <td>NaN</td>\n",
       "      <td>Endangered</td>\n",
       "    </tr>\n",
       "    <tr>\n",
       "      <th>4</th>\n",
       "      <td>ACAD-1004</td>\n",
       "      <td>Acadia National Park</td>\n",
       "      <td>Mammal</td>\n",
       "      <td>Carnivora</td>\n",
       "      <td>Canidae</td>\n",
       "      <td>Vulpes vulpes</td>\n",
       "      <td>Black Fox, Cross Fox, Eastern Red Fox, Fox, Re...</td>\n",
       "      <td>Approved</td>\n",
       "      <td>Present</td>\n",
       "      <td>Unknown</td>\n",
       "      <td>Common</td>\n",
       "      <td>Breeder</td>\n",
       "      <td>NaN</td>\n",
       "    </tr>\n",
       "  </tbody>\n",
       "</table>\n",
       "</div>"
      ],
      "text/plain": [
       "  Species_ID             Park_Name Category         Order    Family  \\\n",
       "0  ACAD-1000  Acadia National Park   Mammal  Artiodactyla  Cervidae   \n",
       "1  ACAD-1001  Acadia National Park   Mammal  Artiodactyla  Cervidae   \n",
       "2  ACAD-1002  Acadia National Park   Mammal     Carnivora   Canidae   \n",
       "3  ACAD-1003  Acadia National Park   Mammal     Carnivora   Canidae   \n",
       "4  ACAD-1004  Acadia National Park   Mammal     Carnivora   Canidae   \n",
       "\n",
       "          Scientific_Name                                       Common_Names  \\\n",
       "0             Alces alces                                              Moose   \n",
       "1  Odocoileus virginianus  Northern White-Tailed Deer, Virginia Deer, Whi...   \n",
       "2           Canis latrans                             Coyote, Eastern Coyote   \n",
       "3             Canis lupus        Eastern Timber Wolf, Gray Wolf, Timber Wolf   \n",
       "4           Vulpes vulpes  Black Fox, Cross Fox, Eastern Red Fox, Fox, Re...   \n",
       "\n",
       "  Record_Status     Occurrence  Nativeness Abundance Seasonality  \\\n",
       "0      Approved        Present      Native      Rare    Resident   \n",
       "1      Approved        Present      Native  Abundant         NaN   \n",
       "2      Approved        Present  Not Native    Common         NaN   \n",
       "3      Approved  Not Confirmed      Native       NaN         NaN   \n",
       "4      Approved        Present     Unknown    Common     Breeder   \n",
       "\n",
       "  Conservation_Status  \n",
       "0                 NaN  \n",
       "1                 NaN  \n",
       "2  Species of Concern  \n",
       "3          Endangered  \n",
       "4                 NaN  "
      ]
     },
     "execution_count": 32,
     "metadata": {},
     "output_type": "execute_result"
    }
   ],
   "source": [
    "data = pd.read_csv(\"species.csv\")\n",
    "data.head()"
   ]
  },
  {
   "cell_type": "code",
   "execution_count": 33,
   "metadata": {},
   "outputs": [
    {
     "data": {
      "text/plain": [
       "(119190, 13)"
      ]
     },
     "execution_count": 33,
     "metadata": {},
     "output_type": "execute_result"
    }
   ],
   "source": [
    "data.shape"
   ]
  },
  {
   "cell_type": "code",
   "execution_count": 34,
   "metadata": {},
   "outputs": [
    {
     "name": "stdout",
     "output_type": "stream",
     "text": [
      "<class 'pandas.core.frame.DataFrame'>\n",
      "RangeIndex: 119190 entries, 0 to 119189\n",
      "Data columns (total 13 columns):\n",
      "Species_ID             119190 non-null object\n",
      "Park_Name              119190 non-null object\n",
      "Category               119190 non-null object\n",
      "Order                  117718 non-null object\n",
      "Family                 117678 non-null object\n",
      "Scientific_Name        119190 non-null object\n",
      "Common_Names           119190 non-null object\n",
      "Record_Status          119190 non-null object\n",
      "Occurrence             99048 non-null object\n",
      "Nativeness             94145 non-null object\n",
      "Abundance              76254 non-null object\n",
      "Seasonality            20110 non-null object\n",
      "Conservation_Status    4704 non-null object\n",
      "dtypes: object(13)\n",
      "memory usage: 11.8+ MB\n"
     ]
    }
   ],
   "source": [
    "data.info()"
   ]
  },
  {
   "cell_type": "markdown",
   "metadata": {},
   "source": [
    "###### Exclude differences "
   ]
  },
  {
   "cell_type": "code",
   "execution_count": 35,
   "metadata": {},
   "outputs": [
    {
     "data": {
      "text/plain": [
       "Vascular Plant         65184\n",
       "Bird                   14593\n",
       "Insect                 14349\n",
       "Fungi                   6197\n",
       "Nonvascular Plant       4278\n",
       "Fish                    3955\n",
       "Mammal                  3863\n",
       "Invertebrate            1566\n",
       "Reptile                 1341\n",
       "Algae                    976\n",
       "Slug/Snail               787\n",
       "Spider/Scorpion          776\n",
       "Amphibian                743\n",
       "Crab/Lobster/Shrimp      582\n",
       "Name: Category, dtype: int64"
      ]
     },
     "execution_count": 35,
     "metadata": {},
     "output_type": "execute_result"
    }
   ],
   "source": [
    "data['Category'].value_counts()"
   ]
  },
  {
   "cell_type": "code",
   "execution_count": 36,
   "metadata": {},
   "outputs": [
    {
     "data": {
      "text/plain": [
       "Approved     86254\n",
       "In Review    32936\n",
       "Name: Record_Status, dtype: int64"
      ]
     },
     "execution_count": 36,
     "metadata": {},
     "output_type": "execute_result"
    }
   ],
   "source": [
    "data['Record_Status'].value_counts()"
   ]
  },
  {
   "cell_type": "code",
   "execution_count": 37,
   "metadata": {},
   "outputs": [
    {
     "data": {
      "text/plain": [
       "Present                            83277\n",
       "Not Confirmed                      11958\n",
       "Not Present (False Report)          2072\n",
       "Not Present (Historical Report)     1310\n",
       "Not Present                          431\n",
       "Name: Occurrence, dtype: int64"
      ]
     },
     "execution_count": 37,
     "metadata": {},
     "output_type": "execute_result"
    }
   ],
   "source": [
    "data['Occurrence'].value_counts()"
   ]
  },
  {
   "cell_type": "code",
   "execution_count": 38,
   "metadata": {},
   "outputs": [
    {
     "data": {
      "text/plain": [
       "Native        75949\n",
       "Not Native    11095\n",
       "Unknown        7101\n",
       "Name: Nativeness, dtype: int64"
      ]
     },
     "execution_count": 38,
     "metadata": {},
     "output_type": "execute_result"
    }
   ],
   "source": [
    "data['Nativeness'].value_counts()"
   ]
  },
  {
   "cell_type": "code",
   "execution_count": 39,
   "metadata": {},
   "outputs": [
    {
     "data": {
      "text/plain": [
       "Unknown       28118\n",
       "Uncommon      18778\n",
       "Common        12913\n",
       "Rare          10768\n",
       "Occasional     3312\n",
       "Abundant       2365\n",
       "Name: Abundance, dtype: int64"
      ]
     },
     "execution_count": 39,
     "metadata": {},
     "output_type": "execute_result"
    }
   ],
   "source": [
    "data['Abundance'].value_counts()"
   ]
  },
  {
   "cell_type": "code",
   "execution_count": 40,
   "metadata": {},
   "outputs": [
    {
     "data": {
      "text/plain": [
       "Breeder                                 12214\n",
       "Resident                                 3215\n",
       "Migratory                                2825\n",
       "Vagrant                                  1660\n",
       "Breeder, Winter                            64\n",
       "Summer                                     26\n",
       "Migratory, Winter                          24\n",
       "Winter                                     20\n",
       "Breeder, Resident                          20\n",
       "Breeder, Migratory                         13\n",
       "Resident, Winter                            9\n",
       "Migratory, Vagrant                          4\n",
       "Breeder, Resident, Summer                   3\n",
       "Migratory, Summer                           3\n",
       "Summer, Vagrant                             3\n",
       "Breeder, Summer                             2\n",
       "Resident, Summer                            2\n",
       "Breeder, Resident, Summer, Winter           1\n",
       "Winter, Vagrant                             1\n",
       "Breeder, Resident, Migratory, Summer        1\n",
       "Name: Seasonality, dtype: int64"
      ]
     },
     "execution_count": 40,
     "metadata": {},
     "output_type": "execute_result"
    }
   ],
   "source": [
    "data['Seasonality'].value_counts()"
   ]
  },
  {
   "cell_type": "code",
   "execution_count": 41,
   "metadata": {},
   "outputs": [
    {
     "data": {
      "text/plain": [
       "Species_ID                  0\n",
       "Park_Name                   0\n",
       "Category                    0\n",
       "Order                    1472\n",
       "Family                   1512\n",
       "Scientific_Name             0\n",
       "Common_Names                0\n",
       "Record_Status               0\n",
       "Occurrence              20142\n",
       "Nativeness              25045\n",
       "Abundance               42936\n",
       "Seasonality             99080\n",
       "Conservation_Status    114486\n",
       "dtype: int64"
      ]
     },
     "execution_count": 41,
     "metadata": {},
     "output_type": "execute_result"
    }
   ],
   "source": [
    "data.isnull().sum()"
   ]
  },
  {
   "cell_type": "markdown",
   "metadata": {},
   "source": [
    "###### Identify missing data"
   ]
  },
  {
   "cell_type": "code",
   "execution_count": 42,
   "metadata": {
    "collapsed": true
   },
   "outputs": [],
   "source": [
    "data['Occurrence']=data['Occurrence'].fillna('Not confirmed')"
   ]
  },
  {
   "cell_type": "code",
   "execution_count": 43,
   "metadata": {},
   "outputs": [
    {
     "data": {
      "text/plain": [
       "Species_ID                  0\n",
       "Park_Name                   0\n",
       "Category                    0\n",
       "Order                    1472\n",
       "Family                   1512\n",
       "Scientific_Name             0\n",
       "Common_Names                0\n",
       "Record_Status               0\n",
       "Occurrence                  0\n",
       "Nativeness              25045\n",
       "Abundance               42936\n",
       "Seasonality             99080\n",
       "Conservation_Status    114486\n",
       "dtype: int64"
      ]
     },
     "execution_count": 43,
     "metadata": {},
     "output_type": "execute_result"
    }
   ],
   "source": [
    "data.isnull().sum()"
   ]
  },
  {
   "cell_type": "code",
   "execution_count": 44,
   "metadata": {
    "scrolled": true
   },
   "outputs": [
    {
     "data": {
      "text/plain": [
       "Species of Concern     3843\n",
       "Endangered              374\n",
       "Under Review            194\n",
       "Threatened              184\n",
       "In Recovery              77\n",
       "Proposed Endangered      24\n",
       "Proposed Threatened       7\n",
       "Extinct                   1\n",
       "Name: Conservation_Status, dtype: int64"
      ]
     },
     "execution_count": 44,
     "metadata": {},
     "output_type": "execute_result"
    }
   ],
   "source": [
    "data['Conservation_Status'].value_counts()"
   ]
  },
  {
   "cell_type": "code",
   "execution_count": 45,
   "metadata": {
    "collapsed": true
   },
   "outputs": [],
   "source": [
    "data['Conservation_Status']=data['Conservation_Status'].fillna('Under Review')"
   ]
  },
  {
   "cell_type": "code",
   "execution_count": 46,
   "metadata": {},
   "outputs": [
    {
     "data": {
      "text/plain": [
       "Species_ID                 0\n",
       "Park_Name                  0\n",
       "Category                   0\n",
       "Order                   1472\n",
       "Family                  1512\n",
       "Scientific_Name            0\n",
       "Common_Names               0\n",
       "Record_Status              0\n",
       "Occurrence                 0\n",
       "Nativeness             25045\n",
       "Abundance              42936\n",
       "Seasonality            99080\n",
       "Conservation_Status        0\n",
       "dtype: int64"
      ]
     },
     "execution_count": 46,
     "metadata": {},
     "output_type": "execute_result"
    }
   ],
   "source": [
    "data.isnull().sum()"
   ]
  },
  {
   "cell_type": "code",
   "execution_count": 47,
   "metadata": {
    "collapsed": true
   },
   "outputs": [],
   "source": [
    "data['Nativeness']=data['Nativeness'].fillna('Under Review')"
   ]
  },
  {
   "cell_type": "code",
   "execution_count": 48,
   "metadata": {},
   "outputs": [
    {
     "data": {
      "text/plain": [
       "Species_ID                 0\n",
       "Park_Name                  0\n",
       "Category                   0\n",
       "Order                   1472\n",
       "Family                  1512\n",
       "Scientific_Name            0\n",
       "Common_Names               0\n",
       "Record_Status              0\n",
       "Occurrence                 0\n",
       "Nativeness                 0\n",
       "Abundance              42936\n",
       "Seasonality            99080\n",
       "Conservation_Status        0\n",
       "dtype: int64"
      ]
     },
     "execution_count": 48,
     "metadata": {},
     "output_type": "execute_result"
    }
   ],
   "source": [
    "data.isnull().sum()"
   ]
  },
  {
   "cell_type": "code",
   "execution_count": 49,
   "metadata": {
    "collapsed": true
   },
   "outputs": [],
   "source": [
    "data['Seasonality']=data['Seasonality'].fillna('Unknown')"
   ]
  },
  {
   "cell_type": "code",
   "execution_count": 50,
   "metadata": {},
   "outputs": [
    {
     "data": {
      "text/plain": [
       "Species_ID                 0\n",
       "Park_Name                  0\n",
       "Category                   0\n",
       "Order                   1472\n",
       "Family                  1512\n",
       "Scientific_Name            0\n",
       "Common_Names               0\n",
       "Record_Status              0\n",
       "Occurrence                 0\n",
       "Nativeness                 0\n",
       "Abundance              42936\n",
       "Seasonality                0\n",
       "Conservation_Status        0\n",
       "dtype: int64"
      ]
     },
     "execution_count": 50,
     "metadata": {},
     "output_type": "execute_result"
    }
   ],
   "source": [
    "data.isnull().sum()"
   ]
  },
  {
   "cell_type": "code",
   "execution_count": 51,
   "metadata": {
    "collapsed": true
   },
   "outputs": [],
   "source": [
    "data['Family']=data['Family'].fillna('Unknown')"
   ]
  },
  {
   "cell_type": "code",
   "execution_count": 52,
   "metadata": {},
   "outputs": [
    {
     "data": {
      "text/plain": [
       "Species_ID                 0\n",
       "Park_Name                  0\n",
       "Category                   0\n",
       "Order                   1472\n",
       "Family                     0\n",
       "Scientific_Name            0\n",
       "Common_Names               0\n",
       "Record_Status              0\n",
       "Occurrence                 0\n",
       "Nativeness                 0\n",
       "Abundance              42936\n",
       "Seasonality                0\n",
       "Conservation_Status        0\n",
       "dtype: int64"
      ]
     },
     "execution_count": 52,
     "metadata": {},
     "output_type": "execute_result"
    }
   ],
   "source": [
    "data.isnull().sum()"
   ]
  },
  {
   "cell_type": "code",
   "execution_count": 53,
   "metadata": {
    "collapsed": true
   },
   "outputs": [],
   "source": [
    "# drop rows with missing values\n",
    "data.dropna(inplace=True)"
   ]
  },
  {
   "cell_type": "code",
   "execution_count": 54,
   "metadata": {},
   "outputs": [
    {
     "data": {
      "text/plain": [
       "Species_ID             0\n",
       "Park_Name              0\n",
       "Category               0\n",
       "Order                  0\n",
       "Family                 0\n",
       "Scientific_Name        0\n",
       "Common_Names           0\n",
       "Record_Status          0\n",
       "Occurrence             0\n",
       "Nativeness             0\n",
       "Abundance              0\n",
       "Seasonality            0\n",
       "Conservation_Status    0\n",
       "dtype: int64"
      ]
     },
     "execution_count": 54,
     "metadata": {},
     "output_type": "execute_result"
    }
   ],
   "source": [
    "data.isnull().sum()"
   ]
  },
  {
   "cell_type": "code",
   "execution_count": 55,
   "metadata": {
    "scrolled": false
   },
   "outputs": [
    {
     "name": "stdout",
     "output_type": "stream",
     "text": [
      "       Species_ID             Park_Name        Category           Order  \\\n",
      "0       ACAD-1000  Acadia National Park          Mammal    Artiodactyla   \n",
      "1       ACAD-1001  Acadia National Park          Mammal    Artiodactyla   \n",
      "2       ACAD-1002  Acadia National Park          Mammal       Carnivora   \n",
      "4       ACAD-1004  Acadia National Park          Mammal       Carnivora   \n",
      "8       ACAD-1008  Acadia National Park          Mammal       Carnivora   \n",
      "9       ACAD-1009  Acadia National Park          Mammal       Carnivora   \n",
      "11      ACAD-1011  Acadia National Park          Mammal       Carnivora   \n",
      "12      ACAD-1012  Acadia National Park          Mammal       Carnivora   \n",
      "14      ACAD-1014  Acadia National Park          Mammal       Carnivora   \n",
      "18      ACAD-1018  Acadia National Park          Mammal       Carnivora   \n",
      "19      ACAD-1019  Acadia National Park          Mammal       Carnivora   \n",
      "20      ACAD-1020  Acadia National Park          Mammal      Chiroptera   \n",
      "21      ACAD-1021  Acadia National Park          Mammal      Chiroptera   \n",
      "22      ACAD-1022  Acadia National Park          Mammal      Chiroptera   \n",
      "23      ACAD-1023  Acadia National Park          Mammal      Chiroptera   \n",
      "24      ACAD-1024  Acadia National Park          Mammal      Chiroptera   \n",
      "26      ACAD-1026  Acadia National Park          Mammal      Chiroptera   \n",
      "28      ACAD-1028  Acadia National Park          Mammal      Lagomorpha   \n",
      "29      ACAD-1029  Acadia National Park          Mammal        Rodentia   \n",
      "30      ACAD-1030  Acadia National Park          Mammal        Rodentia   \n",
      "33      ACAD-1033  Acadia National Park          Mammal        Rodentia   \n",
      "34      ACAD-1034  Acadia National Park          Mammal        Rodentia   \n",
      "35      ACAD-1035  Acadia National Park          Mammal        Rodentia   \n",
      "36      ACAD-1036  Acadia National Park          Mammal        Rodentia   \n",
      "37      ACAD-1037  Acadia National Park          Mammal        Rodentia   \n",
      "38      ACAD-1038  Acadia National Park          Mammal        Rodentia   \n",
      "42      ACAD-1042  Acadia National Park          Mammal        Rodentia   \n",
      "44      ACAD-1044  Acadia National Park          Mammal        Rodentia   \n",
      "45      ACAD-1045  Acadia National Park          Mammal        Rodentia   \n",
      "46      ACAD-1046  Acadia National Park          Mammal        Rodentia   \n",
      "...           ...                   ...             ...             ...   \n",
      "119153  ZION-2759    Zion National Park  Vascular Plant    Saxifragales   \n",
      "119155  ZION-2761    Zion National Park  Vascular Plant    Saxifragales   \n",
      "119156  ZION-2762    Zion National Park  Vascular Plant    Saxifragales   \n",
      "119158  ZION-2764    Zion National Park  Vascular Plant    Saxifragales   \n",
      "119159  ZION-2765    Zion National Park  Vascular Plant    Saxifragales   \n",
      "119160  ZION-2766    Zion National Park  Vascular Plant    Saxifragales   \n",
      "119161  ZION-2767    Zion National Park  Vascular Plant    Saxifragales   \n",
      "119162  ZION-2768    Zion National Park  Vascular Plant    Saxifragales   \n",
      "119163  ZION-2769    Zion National Park  Vascular Plant  Selaginellales   \n",
      "119164  ZION-2770    Zion National Park  Vascular Plant  Selaginellales   \n",
      "119167  ZION-2773    Zion National Park  Vascular Plant       Solanales   \n",
      "119169  ZION-2775    Zion National Park  Vascular Plant       Solanales   \n",
      "119170  ZION-2776    Zion National Park  Vascular Plant       Solanales   \n",
      "119171  ZION-2777    Zion National Park  Vascular Plant       Solanales   \n",
      "119172  ZION-2778    Zion National Park  Vascular Plant       Solanales   \n",
      "119173  ZION-2779    Zion National Park  Vascular Plant       Solanales   \n",
      "119174  ZION-2780    Zion National Park  Vascular Plant       Solanales   \n",
      "119175  ZION-2781    Zion National Park  Vascular Plant       Solanales   \n",
      "119177  ZION-2783    Zion National Park  Vascular Plant       Solanales   \n",
      "119178  ZION-2784    Zion National Park  Vascular Plant       Solanales   \n",
      "119179  ZION-2785    Zion National Park  Vascular Plant       Solanales   \n",
      "119180  ZION-2786    Zion National Park  Vascular Plant       Solanales   \n",
      "119181  ZION-2787    Zion National Park  Vascular Plant       Solanales   \n",
      "119182  ZION-2788    Zion National Park  Vascular Plant       Solanales   \n",
      "119183  ZION-2789    Zion National Park  Vascular Plant       Solanales   \n",
      "119185  ZION-2791    Zion National Park  Vascular Plant       Solanales   \n",
      "119186  ZION-2792    Zion National Park  Vascular Plant         Vitales   \n",
      "119187  ZION-2793    Zion National Park  Vascular Plant         Vitales   \n",
      "119188  ZION-2794    Zion National Park  Vascular Plant   Zygophyllales   \n",
      "119189  ZION-2795    Zion National Park  Vascular Plant   Zygophyllales   \n",
      "\n",
      "                  Family                         Scientific_Name  \\\n",
      "0               Cervidae                             Alces alces   \n",
      "1               Cervidae                  Odocoileus virginianus   \n",
      "2                Canidae                           Canis latrans   \n",
      "4                Canidae                           Vulpes vulpes   \n",
      "8             Mustelidae                        Lutra canadensis   \n",
      "9             Mustelidae                         Martes pennanti   \n",
      "11            Mustelidae                         Mustela erminea   \n",
      "12            Mustelidae                         Mustela frenata   \n",
      "14            Mustelidae                           Mustela vison   \n",
      "18           Procyonidae                           Procyon lotor   \n",
      "19               Ursidae                        Ursus americanus   \n",
      "20      Vespertilionidae                        Eptesicus fuscus   \n",
      "21      Vespertilionidae               Lasionycteris noctivagans   \n",
      "22      Vespertilionidae                       Lasiurus borealis   \n",
      "23      Vespertilionidae                       Lasiurus cinereus   \n",
      "24      Vespertilionidae                           Myotis keenii   \n",
      "26      Vespertilionidae                        Myotis lucifugus   \n",
      "28             Leporidae                        Lepus americanus   \n",
      "29            Castoridae                       Castor canadensis   \n",
      "30            Cricetidae                   Clethrionomys gapperi   \n",
      "33            Cricetidae                     Peromyscus leucopus   \n",
      "34            Cricetidae                  Peromyscus maniculatus   \n",
      "35            Cricetidae                      Synaptomys cooperi   \n",
      "36             Dipodidae                    Napaeozapus insignis   \n",
      "37             Dipodidae                         Zapus hudsonius   \n",
      "38        Erethizontidae                      Erethizon dorsatum   \n",
      "42             Sciuridae                      Glaucomys sabrinus   \n",
      "44             Sciuridae                           Marmota monax   \n",
      "45             Sciuridae                    Sciurus carolinensis   \n",
      "46             Sciuridae                         Tamias striatus   \n",
      "...                  ...                                     ...   \n",
      "119153   Grossulariaceae             Ribes cereum var. inebrians   \n",
      "119155   Grossulariaceae          Ribes velutinum var. velutinum   \n",
      "119156   Grossulariaceae  Ribes viscosissimum var. viscosissimum   \n",
      "119158     Saxifragaceae      Heuchera parvifolia var. utahensis   \n",
      "119159     Saxifragaceae      Heuchera rubescens var. versicolor   \n",
      "119160     Saxifragaceae     Lithophragma glabrum var. ramulosum   \n",
      "119161     Saxifragaceae                   Lithophragma tenellum   \n",
      "119162     Saxifragaceae                    Saxifraga rhomboidea   \n",
      "119163   Selaginellaceae                 Selaginella underwoodii   \n",
      "119164   Selaginellaceae                   Selaginella utahensis   \n",
      "119167    Convolvulaceae                    Convolvulus arvensis   \n",
      "119169    Convolvulaceae                        Cuscuta indecora   \n",
      "119170    Convolvulaceae                       Cuscuta pentagona   \n",
      "119171    Convolvulaceae                        Ipomoea purpurea   \n",
      "119172        Solanaceae                 Chamaesaracha coronopus   \n",
      "119173        Solanaceae                         Datura wrightii   \n",
      "119174        Solanaceae                       Lycium andersonii   \n",
      "119175        Solanaceae                         Lycium pallidum   \n",
      "119177        Solanaceae                     Nicotiana attenuata   \n",
      "119178        Solanaceae                 Nicotiana trigonophylla   \n",
      "119179        Solanaceae      Physalis hederifolia var. fendleri   \n",
      "119180        Solanaceae       Physalis hederifolia var. palmeri   \n",
      "119181        Solanaceae                     Physalis longifolia   \n",
      "119182        Solanaceae                  Solanum elaeagnifolium   \n",
      "119183        Solanaceae                          Solanum nigrum   \n",
      "119185        Solanaceae                       Solanum triflorum   \n",
      "119186          Vitaceae                         Vitis arizonica   \n",
      "119187          Vitaceae                          Vitis vinifera   \n",
      "119188    Zygophyllaceae                       Larrea tridentata   \n",
      "119189    Zygophyllaceae                     Tribulus terrestris   \n",
      "\n",
      "                                             Common_Names Record_Status  \\\n",
      "0                                                   Moose      Approved   \n",
      "1       Northern White-Tailed Deer, Virginia Deer, Whi...      Approved   \n",
      "2                                  Coyote, Eastern Coyote      Approved   \n",
      "4       Black Fox, Cross Fox, Eastern Red Fox, Fox, Re...      Approved   \n",
      "8                                      Otter, River Otter      Approved   \n",
      "9                                 Blackcat, Fisher, Pekan      Approved   \n",
      "11      Bonaparte Weasel, Bonaparte's Weasel, Ermine, ...      Approved   \n",
      "12      Long-Tailed Weasel, New York Weasel, Northern ...      Approved   \n",
      "14                                    American Mink, Mink      Approved   \n",
      "18                                Common Raccoon, Raccoon      Approved   \n",
      "19                                             Black Bear      Approved   \n",
      "20                        Big Brown Bat, Common Brown Bat      Approved   \n",
      "21                                      Silver-Haired Bat      Approved   \n",
      "22      Eastern Red Bat, New York Bat, Northern Red Ba...      Approved   \n",
      "23                                              Hoary Bat      Approved   \n",
      "24      Keen's Myotis, Northern Long-Eared Bat, Northe...      Approved   \n",
      "26                  Little Brown Bat, Little Brown Myotis      Approved   \n",
      "28                            Snowshoe Hare, Varying Hare      Approved   \n",
      "29               American Beaver, Beaver, Canadian Beaver      Approved   \n",
      "30      Boreal Redback Vole, Red-Backed Mouse, Red-Bac...      Approved   \n",
      "33                                     White-Footed Mouse      Approved   \n",
      "34                                             Deer Mouse      Approved   \n",
      "35             Cooper Lemming Mouse, Southern Bog Lemming      Approved   \n",
      "36                                 Woodland Jumping Mouse      Approved   \n",
      "37      Hudson Bay Jumping Mouse, Kangaroo Mouse, Mead...      Approved   \n",
      "38                                    Hedgehog, Porcupine      Approved   \n",
      "42       Mearns Flying Squirrel, Northern Flying Squirrel      Approved   \n",
      "44            Groundhog, New England Woodchuck, Woodchuck      Approved   \n",
      "45      Eastern Gray Squirrel, Gray Squirrel, Northern...      Approved   \n",
      "46      Northeastern Chipmunk, Striped Squirrel, Easte...      Approved   \n",
      "...                                                   ...           ...   \n",
      "119153                                        Wax Currant      Approved   \n",
      "119155                                  Desert Gooseberry      Approved   \n",
      "119156                                     Sticky Currant      Approved   \n",
      "119158                                Littleleaf Alumroot      Approved   \n",
      "119159                                     Hairy Alumroot      Approved   \n",
      "119160                             Fringecup Woodlandstar      Approved   \n",
      "119161                               Slender Woodlandstar      Approved   \n",
      "119162                              Diamondleaf Saxifrage      Approved   \n",
      "119163                             Underwood's Spike-Moss      Approved   \n",
      "119164                                    Utah Spike-Moss      Approved   \n",
      "119167                                     Field Bindweed      Approved   \n",
      "119169                                  Large-Seed Dodder      Approved   \n",
      "119170                                       Field Dodder      Approved   \n",
      "119171                                      Morning Glory      Approved   \n",
      "119172                                   False Nightshade      Approved   \n",
      "119173                                    Angel's Trumpet      Approved   \n",
      "119174                               Anderson's Wolfberry      Approved   \n",
      "119175                                     Pale Wolfberry      Approved   \n",
      "119177                                     Coyote Tobacco      Approved   \n",
      "119178                                     Desert Tobacco      Approved   \n",
      "119179                            Fendler's Ground-Cherry      Approved   \n",
      "119180                             Palmer's Ground-Cherry      Approved   \n",
      "119181                            Long-Leaf Ground-Cherry      Approved   \n",
      "119182                              Silverleaf Nightshade      Approved   \n",
      "119183                                   Black Nightshade      Approved   \n",
      "119185                                Cut-Leaf Nightshade      Approved   \n",
      "119186                                       Canyon Grape      Approved   \n",
      "119187                                         Wine Grape      Approved   \n",
      "119188                                      Creosote Bush      Approved   \n",
      "119189                                      Puncture Vine      Approved   \n",
      "\n",
      "       Occurrence  Nativeness   Abundance Seasonality Conservation_Status  \n",
      "0         Present      Native        Rare    Resident        Under Review  \n",
      "1         Present      Native    Abundant     Unknown        Under Review  \n",
      "2         Present  Not Native      Common     Unknown  Species of Concern  \n",
      "4         Present     Unknown      Common     Breeder        Under Review  \n",
      "8         Present      Native      Common     Breeder        Under Review  \n",
      "9         Present      Native        Rare     Unknown        Under Review  \n",
      "11        Present      Native    Uncommon     Unknown        Under Review  \n",
      "12        Present      Native    Uncommon     Unknown        Under Review  \n",
      "14        Present      Native    Uncommon     Unknown        Under Review  \n",
      "18        Present      Native      Common     Unknown        Under Review  \n",
      "19        Present      Native  Occasional     Unknown        Under Review  \n",
      "20        Present      Native    Uncommon     Unknown  Species of Concern  \n",
      "21        Present      Native     Unknown     Unknown  Species of Concern  \n",
      "22        Present      Native  Occasional   Migratory        Under Review  \n",
      "23        Present      Native     Unknown     Unknown        Under Review  \n",
      "24        Present      Native      Common     Unknown  Species of Concern  \n",
      "26        Present      Native      Common     Unknown  Species of Concern  \n",
      "28        Present      Native      Common     Breeder        Under Review  \n",
      "29        Present  Not Native      Common     Breeder        Under Review  \n",
      "30        Present      Native      Common     Breeder        Under Review  \n",
      "33        Present      Native      Common     Breeder        Under Review  \n",
      "34        Present      Native    Abundant     Breeder        Under Review  \n",
      "35        Present      Native        Rare     Breeder        Under Review  \n",
      "36        Present      Native        Rare     Breeder        Under Review  \n",
      "37        Present      Native    Uncommon     Breeder        Under Review  \n",
      "38        Present  Not Native      Common     Breeder        Under Review  \n",
      "42        Present      Native      Common     Breeder        Under Review  \n",
      "44        Present  Not Native      Common     Breeder        Under Review  \n",
      "45        Present  Not Native      Common     Unknown        Under Review  \n",
      "46        Present      Native    Abundant     Breeder        Under Review  \n",
      "...           ...         ...         ...         ...                 ...  \n",
      "119153    Present      Native    Uncommon     Unknown        Under Review  \n",
      "119155    Present      Native        Rare     Unknown        Under Review  \n",
      "119156    Present      Native    Uncommon     Unknown        Under Review  \n",
      "119158    Present      Native        Rare     Unknown        Under Review  \n",
      "119159    Present      Native      Common     Unknown        Under Review  \n",
      "119160    Present      Native    Uncommon     Unknown        Under Review  \n",
      "119161    Present      Native    Uncommon     Unknown        Under Review  \n",
      "119162    Present      Native    Uncommon     Unknown        Under Review  \n",
      "119163    Present      Native    Uncommon     Unknown        Under Review  \n",
      "119164    Present      Native    Uncommon     Unknown        Under Review  \n",
      "119167    Present  Not Native    Uncommon     Unknown        Under Review  \n",
      "119169    Present      Native        Rare     Unknown        Under Review  \n",
      "119170    Present      Native    Uncommon     Unknown        Under Review  \n",
      "119171    Present  Not Native    Uncommon     Unknown        Under Review  \n",
      "119172    Present      Native        Rare     Unknown        Under Review  \n",
      "119173    Present      Native    Uncommon     Unknown        Under Review  \n",
      "119174    Present      Native    Uncommon     Unknown        Under Review  \n",
      "119175    Present      Native    Uncommon     Unknown        Under Review  \n",
      "119177    Present      Native    Uncommon     Unknown        Under Review  \n",
      "119178    Present      Native    Uncommon     Unknown        Under Review  \n",
      "119179    Present      Native    Uncommon     Unknown        Under Review  \n",
      "119180    Present      Native    Uncommon     Unknown        Under Review  \n",
      "119181    Present      Native        Rare     Unknown        Under Review  \n",
      "119182    Present      Native    Uncommon     Unknown        Under Review  \n",
      "119183    Present  Not Native    Uncommon     Unknown        Under Review  \n",
      "119185    Present      Native    Uncommon     Unknown        Under Review  \n",
      "119186    Present      Native    Uncommon     Unknown        Under Review  \n",
      "119187    Present  Not Native    Uncommon     Unknown        Under Review  \n",
      "119188    Present      Native        Rare     Unknown        Under Review  \n",
      "119189    Present  Not Native    Uncommon     Unknown        Under Review  \n",
      "\n",
      "[75935 rows x 13 columns]\n"
     ]
    }
   ],
   "source": [
    "data = pd.DataFrame(data)\n",
    "data.to_csv('species1.csv',index = False, header =(\"Species_ID\",\"Park_Name\",\"Category\",\"Order\",\"Family\",\"Scientific_Name\",\"Common_Names\",\"Record_Status\",\"Occurrence\",\"Nativeness\",\"Abundance\",\"Seasonality\",\"Conservation_Status\"))\n",
    "print(data)"
   ]
  },
  {
   "cell_type": "code",
   "execution_count": 56,
   "metadata": {},
   "outputs": [
    {
     "data": {
      "text/plain": [
       "(75935, 13)"
      ]
     },
     "execution_count": 56,
     "metadata": {},
     "output_type": "execute_result"
    }
   ],
   "source": [
    "data.shape"
   ]
  },
  {
   "cell_type": "code",
   "execution_count": 57,
   "metadata": {},
   "outputs": [
    {
     "name": "stdout",
     "output_type": "stream",
     "text": [
      "<class 'pandas.core.frame.DataFrame'>\n",
      "Int64Index: 75935 entries, 0 to 119189\n",
      "Data columns (total 13 columns):\n",
      "Species_ID             75935 non-null object\n",
      "Park_Name              75935 non-null object\n",
      "Category               75935 non-null object\n",
      "Order                  75935 non-null object\n",
      "Family                 75935 non-null object\n",
      "Scientific_Name        75935 non-null object\n",
      "Common_Names           75935 non-null object\n",
      "Record_Status          75935 non-null object\n",
      "Occurrence             75935 non-null object\n",
      "Nativeness             75935 non-null object\n",
      "Abundance              75935 non-null object\n",
      "Seasonality            75935 non-null object\n",
      "Conservation_Status    75935 non-null object\n",
      "dtypes: object(13)\n",
      "memory usage: 8.1+ MB\n"
     ]
    }
   ],
   "source": [
    "data.info()"
   ]
  },
  {
   "cell_type": "code",
   "execution_count": 58,
   "metadata": {
    "scrolled": false
   },
   "outputs": [
    {
     "data": {
      "text/plain": [
       "0         False\n",
       "1         False\n",
       "2         False\n",
       "4         False\n",
       "8         False\n",
       "9         False\n",
       "11        False\n",
       "12        False\n",
       "14        False\n",
       "18        False\n",
       "19        False\n",
       "20        False\n",
       "21        False\n",
       "22        False\n",
       "23        False\n",
       "24        False\n",
       "26        False\n",
       "28        False\n",
       "29        False\n",
       "30        False\n",
       "33        False\n",
       "34        False\n",
       "35        False\n",
       "36        False\n",
       "37        False\n",
       "38        False\n",
       "42        False\n",
       "44        False\n",
       "45        False\n",
       "46        False\n",
       "          ...  \n",
       "119153    False\n",
       "119155    False\n",
       "119156    False\n",
       "119158    False\n",
       "119159    False\n",
       "119160    False\n",
       "119161    False\n",
       "119162    False\n",
       "119163    False\n",
       "119164    False\n",
       "119167    False\n",
       "119169    False\n",
       "119170    False\n",
       "119171    False\n",
       "119172    False\n",
       "119173    False\n",
       "119174    False\n",
       "119175    False\n",
       "119177    False\n",
       "119178    False\n",
       "119179    False\n",
       "119180    False\n",
       "119181    False\n",
       "119182    False\n",
       "119183    False\n",
       "119185    False\n",
       "119186    False\n",
       "119187    False\n",
       "119188    False\n",
       "119189    False\n",
       "Length: 75935, dtype: bool"
      ]
     },
     "execution_count": 58,
     "metadata": {},
     "output_type": "execute_result"
    }
   ],
   "source": [
    "data.duplicated()"
   ]
  }
 ],
 "metadata": {
  "kernelspec": {
   "display_name": "Python 3",
   "language": "python",
   "name": "python3"
  },
  "language_info": {
   "codemirror_mode": {
    "name": "ipython",
    "version": 3
   },
   "file_extension": ".py",
   "mimetype": "text/x-python",
   "name": "python",
   "nbconvert_exporter": "python",
   "pygments_lexer": "ipython3",
   "version": "3.6.3"
  }
 },
 "nbformat": 4,
 "nbformat_minor": 2
}
