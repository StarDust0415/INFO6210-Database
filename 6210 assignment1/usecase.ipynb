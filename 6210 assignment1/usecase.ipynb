{
 "cells": [
  {
   "cell_type": "code",
   "execution_count": 1,
   "metadata": {
    "collapsed": true
   },
   "outputs": [],
   "source": [
    "import mysql.connector\n",
    "import pandas as pd\n",
    "import csv\n",
    "from mysql.connector import errorcode\n"
   ]
  },
  {
   "cell_type": "code",
   "execution_count": 2,
   "metadata": {
    "collapsed": true
   },
   "outputs": [],
   "source": [
    "mydb = mysql.connector.connect(host = 'localhost', \n",
    "                       user = 'root',                        \n",
    "                        )\n",
    "mydb.database=\"diversity\"\n",
    "cursor = mydb.cursor()\n"
   ]
  },
  {
   "cell_type": "markdown",
   "metadata": {},
   "source": [
    "###### Usecase1:Count The number of species in each state"
   ]
  },
  {
   "cell_type": "code",
   "execution_count": 3,
   "metadata": {
    "scrolled": false
   },
   "outputs": [
    {
     "name": "stdout",
     "output_type": "stream",
     "text": [
      "('AK', 11681)\n",
      "('AR', 1943)\n",
      "('AZ', 5292)\n",
      "('CA', 17283)\n",
      "('CA, NV', 4362)\n",
      "('CO', 6371)\n",
      "('FL', 4644)\n",
      "('HI', 5793)\n",
      "('KY', 2471)\n",
      "('ME', 1694)\n",
      "('MI', 1396)\n",
      "('MN', 1453)\n",
      "('MT', 2552)\n",
      "('ND', 1161)\n",
      "('NM', 1535)\n",
      "('NV', 2624)\n",
      "('OH', 1937)\n",
      "('OR', 3570)\n",
      "('SC', 2296)\n",
      "('SD', 2754)\n",
      "('TN, NC', 6471)\n",
      "('TX', 3992)\n",
      "('UT', 6835)\n",
      "('VA', 4634)\n",
      "('WA', 7026)\n",
      "('WY', 2014)\n",
      "('WY, MT, ID', 3934)\n"
     ]
    }
   ],
   "source": [
    "query=('select parks.state,count(species.species_id) from parks,\\\n",
    "        species  where parks.park_name=species.park_name group by parks.state;')\n",
    "data=()\n",
    "cursor.execute(query,data)\n",
    "for row in cursor:\n",
    "    print(row)"
   ]
  },
  {
   "cell_type": "markdown",
   "metadata": {},
   "source": [
    "###### Usecase2:Count the number of endangered species in each state and list them in descending order"
   ]
  },
  {
   "cell_type": "code",
   "execution_count": 4,
   "metadata": {},
   "outputs": [
    {
     "name": "stdout",
     "output_type": "stream",
     "text": [
      "('CA', 4991)\n",
      "('UT', 3695)\n",
      "('AK', 2578)\n",
      "('FL', 1962)\n",
      "('TN, NC', 1844)\n",
      "('WA', 1526)\n",
      "('CO', 1466)\n",
      "('VA', 1390)\n",
      "('HI', 1373)\n",
      "('WY, MT, ID', 1124)\n",
      "('OH', 987)\n",
      "('WY', 906)\n",
      "('SD', 836)\n",
      "('MT', 788)\n",
      "('AZ', 641)\n",
      "('MI', 598)\n",
      "('SC', 473)\n",
      "('ME', 441)\n",
      "('NV', 372)\n",
      "('CA, NV', 319)\n",
      "('AR', 298)\n",
      "('TX', 262)\n",
      "('MN', 187)\n",
      "('ND', 140)\n",
      "('OR', 136)\n",
      "('KY', 123)\n",
      "('NM', 3)\n"
     ]
    }
   ],
   "source": [
    "query=('select parks.state,count(species.species_id) from parks,species \\\n",
    "        where parks.park_name=species.park_name \\\n",
    "        and (species.abundance=\"rare\" or species.abundance=\"uncommon\")\\\n",
    "        group by parks.state order by -count(species.species_id);')\n",
    "data=()\n",
    "cursor.execute(query,data)\n",
    "for row in cursor:\n",
    "    print(row)"
   ]
  },
  {
   "cell_type": "markdown",
   "metadata": {},
   "source": [
    "###### Usecase3:Count the number of species of the maximum park"
   ]
  },
  {
   "cell_type": "code",
   "execution_count": 5,
   "metadata": {},
   "outputs": [
    {
     "name": "stdout",
     "output_type": "stream",
     "text": [
      "('Wrangell - St Elias National Park and Preserve', 100184)\n"
     ]
    }
   ],
   "source": [
    "query=('select species.park_name,count(species.species_id) \\\n",
    "        from parks,species \\\n",
    "        where species.park_name=\\\n",
    "       (select parks.park_name from parks where parks.acres=(select max(parks.acres) from parks))\\\n",
    "       group by species.park_name')\n",
    "data=()\n",
    "cursor.execute(query,data)\n",
    "for row in cursor:\n",
    "    print(row)"
   ]
  },
  {
   "cell_type": "markdown",
   "metadata": {},
   "source": [
    "###### Usecase4:Count the species of mammals in each state and list them in descending order"
   ]
  },
  {
   "cell_type": "code",
   "execution_count": 6,
   "metadata": {},
   "outputs": [
    {
     "name": "stdout",
     "output_type": "stream",
     "text": [
      "('CA', 602)\n",
      "('AK', 399)\n",
      "('UT', 364)\n",
      "('CO', 292)\n",
      "('AZ', 270)\n",
      "('WA', 228)\n",
      "('CA, NV', 211)\n",
      "('TX', 165)\n",
      "('SD', 153)\n",
      "('NV', 103)\n",
      "('OR', 96)\n",
      "('TN, NC', 94)\n",
      "('NM', 92)\n",
      "('WY, MT, ID', 78)\n",
      "('FL', 75)\n",
      "('WY', 74)\n",
      "('MT', 69)\n",
      "('ND', 66)\n",
      "('VA', 63)\n",
      "('MN', 63)\n",
      "('KY', 56)\n",
      "('ME', 55)\n",
      "('AR', 52)\n",
      "('OH', 47)\n",
      "('SC', 39)\n",
      "('HI', 30)\n",
      "('MI', 26)\n"
     ]
    }
   ],
   "source": [
    "query=('select parks.state,count(*) from parks,\\\n",
    "        species  where parks.park_name=species.park_name and species.category=\"mammal\" \\\n",
    "        group by parks.state order by -count(species.category) ;')\n",
    "data=()\n",
    "cursor.execute(query,data)\n",
    "for row in cursor:\n",
    "    print(row)"
   ]
  },
  {
   "cell_type": "markdown",
   "metadata": {},
   "source": [
    "###### Usecase5:Count the number of native species in each state and list them in descending order"
   ]
  },
  {
   "cell_type": "code",
   "execution_count": 7,
   "metadata": {},
   "outputs": [
    {
     "name": "stdout",
     "output_type": "stream",
     "text": [
      "('CA', 10052)\n",
      "('AK', 8847)\n",
      "('UT', 6141)\n",
      "('WA', 4847)\n",
      "('AZ', 4687)\n",
      "('CO', 4489)\n",
      "('TX', 3681)\n",
      "('HI', 3116)\n",
      "('TN, NC', 2631)\n",
      "('FL', 2567)\n",
      "('MT', 2180)\n",
      "('WY, MT, ID', 2043)\n",
      "('KY', 1816)\n",
      "('SD', 1695)\n",
      "('OH', 1595)\n",
      "('CA, NV', 1578)\n",
      "('WY', 1577)\n",
      "('VA', 1475)\n",
      "('NM', 1397)\n",
      "('OR', 1338)\n",
      "('MN', 1270)\n",
      "('MI', 1188)\n",
      "('ME', 1175)\n",
      "('SC', 1156)\n",
      "('AR', 1152)\n",
      "('NV', 1081)\n",
      "('ND', 858)\n"
     ]
    }
   ],
   "source": [
    "query=('select parks.state,count(species.nativeness) from parks,\\\n",
    "        species  where parks.park_name=species.park_name AND species.nativeness=\"native\" \\\n",
    "        group by parks.state order by -count(species.nativeness);')\n",
    "data=()\n",
    "cursor.execute(query,data)\n",
    "for row in cursor:\n",
    "    print(row)"
   ]
  }
 ],
 "metadata": {
  "kernelspec": {
   "display_name": "Python 3",
   "language": "python",
   "name": "python3"
  },
  "language_info": {
   "codemirror_mode": {
    "name": "ipython",
    "version": 3
   },
   "file_extension": ".py",
   "mimetype": "text/x-python",
   "name": "python",
   "nbconvert_exporter": "python",
   "pygments_lexer": "ipython3",
   "version": "3.6.3"
  }
 },
 "nbformat": 4,
 "nbformat_minor": 2
}
