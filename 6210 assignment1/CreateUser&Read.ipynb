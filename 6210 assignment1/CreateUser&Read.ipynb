{
 "cells": [
  {
   "cell_type": "code",
   "execution_count": 3,
   "metadata": {
    "collapsed": true
   },
   "outputs": [],
   "source": [
    "import mysql.connector\n",
    "import pandas as pd\n",
    "import csv\n",
    "from mysql.connector import errorcode"
   ]
  },
  {
   "cell_type": "code",
   "execution_count": 4,
   "metadata": {
    "collapsed": true
   },
   "outputs": [],
   "source": [
    "mydb = mysql.connector.connect(host = 'localhost', \n",
    "                       user = 'root', \n",
    "                        )\n",
    "cursor = mydb.cursor()\n"
   ]
  },
  {
   "cell_type": "code",
   "execution_count": 5,
   "metadata": {
    "collapsed": true
   },
   "outputs": [],
   "source": [
    "DB_NAME = 'diversity'\n",
    "TABLES = {}\n",
    "\n",
    "TABLES['parks'] = (\n",
    "    \"CREATE TABLE `parks` (\"\n",
    "    \"  `park_code`char(10) NOT NULL,\"\n",
    "    \"  `park_name` varchar(50) NOT NULL,\"\n",
    "    \"  `state` varchar(10) NOT NULL,\"\n",
    "    \"  `acres` int(10) NOT NULL,\"\n",
    "    \"  `latitude` double NOT NULL,\"\n",
    "    \"  `longitude` double NOT NULL,\"\n",
    "    \"  PRIMARY KEY (`park_code`)\"#SQL Schema that makes sense and is in at least in first normal form.\n",
    "    \") ENGINE=InnoDB\")\n",
    "TABLES['species'] = (\n",
    "    \"CREATE TABLE `species` (\"\n",
    "    \"  `species_id` varchar(20) NOT NULL,\"\n",
    "    \"  `park_name` varchar(50) NOT NULL,\"\n",
    "    \"  `category` varchar(20) NOT NULL,\"\n",
    "    \"  `order` varchar(20) NOT NULL,\"#order is a keyword of the system, so I choose\"`\"to solve this problem.\n",
    "    \"  `family` varchar(20) NOT NULL,\"\n",
    "    \"  `scientific_name` varchar(100) NOT NULL,\"\n",
    "    \"  `common_names` text(200) NOT NULL,\"\n",
    "    \"  `record_status` enum('Approved','In Review') NOT NULL,\"\n",
    "    \"  `occurrence` enum('Not Confirmed','Present','Not Present (False Report)','Not Present (Historical Report)','Not Present') NOT NULL,\"\n",
    "    \"  `nativeness` enum('Native','Not Native','Unknown') NOT NULL,\"\n",
    "    \"  `abundance` enum('Abundant','Rare','Unknown','Occasional','Common','Uncommon') NOT NULL,\"\n",
    "    \"  `seasonality` varchar(50) NOT NULL,\"\n",
    "    \"  `conservation_status` varchar(50) NOT NULL,\"\n",
    "    \"  PRIMARY KEY (`species_id`)\"#SQL Schema that makes sense and is in at least in first normal form.\n",
    "    \") ENGINE=InnoDB\")\n",
    "\n"
   ]
  },
  {
   "cell_type": "code",
   "execution_count": 6,
   "metadata": {},
   "outputs": [
    {
     "name": "stdout",
     "output_type": "stream",
     "text": [
      "Creating table parks: OK\n",
      "Creating table species: OK\n"
     ]
    }
   ],
   "source": [
    "def create_database(cursor):\n",
    "    try:\n",
    "        cursor.execute(\n",
    "            \"CREATE DATABASE {} DEFAULT CHARACTER SET 'utf8'\".format(DB_NAME))\n",
    "    except mysql.connector.Error as err:\n",
    "        print(\"Failed creating database: {}\".format(err))\n",
    "        exit(1)\n",
    "try:\n",
    "    mydb.database = DB_NAME  \n",
    "except mysql.connector.Error as err:\n",
    "    if err.errno == errorcode.ER_BAD_DB_ERROR:\n",
    "        create_database(cursor)\n",
    "        mydb.database = DB_NAME\n",
    "    else:\n",
    "        print(err)\n",
    "        exit(1)\n",
    "for name, ddl in TABLES.items():\n",
    "    try:\n",
    "        print(\"Creating table {}: \".format(name), end='')\n",
    "        \n",
    "        cursor.execute(ddl)\n",
    "    except mysql.connector.Error as err:\n",
    "        if err.errno == errorcode.ER_TABLE_EXISTS_ERROR:\n",
    "            print(\"already exists.\")\n",
    "        else:\n",
    "            print(err.msg)\n",
    "    else:\n",
    "        print(\"OK\")\n"
   ]
  },
  {
   "cell_type": "code",
   "execution_count": 10,
   "metadata": {
    "collapsed": true
   },
   "outputs": [],
   "source": [
    "csv_data = csv.reader(open('parks.csv'))\n",
    "first=0\n",
    "for row in csv_data:\n",
    "    if first==0:\n",
    "        first=1\n",
    "    else:\n",
    "        cursor.execute('INSERT INTO parks(park_code, \\\n",
    "        park_name, state, acres ,latitude, longitude )'\\\n",
    "        'VALUES(%s, %s,%s,%s,%s,%s)',row)\n"
   ]
  },
  {
   "cell_type": "code",
   "execution_count": 12,
   "metadata": {},
   "outputs": [
    {
     "name": "stdout",
     "output_type": "stream",
     "text": [
      "Done\n"
     ]
    }
   ],
   "source": [
    "csv_data = csv.reader(open('species1.csv'))\n",
    "first=0\n",
    "for row in csv_data:\n",
    "    if first==0:\n",
    "        first=1\n",
    "    else:\n",
    "        cursor.execute('INSERT INTO species (species_id, \\\n",
    "        park_name, category,`order`, family, scientific_name ,\\\n",
    "        common_names, record_status, occurrence ,nativeness, abundance ,\\\n",
    "        seasonality, conservation_status)'\\\n",
    "        'VALUES(%s, %s,%s,%s,%s,%s,%s,%s,%s,%s,%s,%s,%s)',row)\n",
    "#close the connection to the database.\n",
    "mydb.commit()\n",
    "cursor.close()\n",
    "mydb.close()\n",
    "print (\"Done\")"
   ]
  }
 ],
 "metadata": {
  "kernelspec": {
   "display_name": "Python 3",
   "language": "python",
   "name": "python3"
  },
  "language_info": {
   "codemirror_mode": {
    "name": "ipython",
    "version": 3
   },
   "file_extension": ".py",
   "mimetype": "text/x-python",
   "name": "python",
   "nbconvert_exporter": "python",
   "pygments_lexer": "ipython3",
   "version": "3.6.4"
  }
 },
 "nbformat": 4,
 "nbformat_minor": 2
}
